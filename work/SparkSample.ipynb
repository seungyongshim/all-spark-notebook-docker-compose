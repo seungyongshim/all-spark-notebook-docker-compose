{
 "cells": [
  {
   "cell_type": "code",
   "execution_count": 1,
   "id": "bae3a24b",
   "metadata": {},
   "outputs": [
    {
     "data": {
      "text/plain": [
       "Intitializing Scala interpreter ..."
      ]
     },
     "metadata": {},
     "output_type": "display_data"
    },
    {
     "data": {
      "text/plain": [
       "Spark Web UI available at http://668fa6905581:4040\n",
       "SparkContext available as 'sc' (version = 3.1.1, master = local[*], app id = local-1619595618321)\n",
       "SparkSession available as 'spark'\n"
      ]
     },
     "metadata": {},
     "output_type": "display_data"
    },
    {
     "data": {
      "text/plain": [
       "df: org.apache.spark.sql.DataFrame = [registration_dttm: timestamp, id: int ... 11 more fields]\n"
      ]
     },
     "execution_count": 1,
     "metadata": {},
     "output_type": "execute_result"
    }
   ],
   "source": [
    "val df = spark.read.parquet(\"../data/userdata1.parquet\")"
   ]
  },
  {
   "cell_type": "code",
   "execution_count": 2,
   "id": "2c723add",
   "metadata": {
    "scrolled": false
   },
   "outputs": [
    {
     "name": "stdout",
     "output_type": "stream",
     "text": [
      "+-------------------+---+----------+---------+------------------------+------+---------------+-------------------+----------------------+----------+---------+----------------------------+----------------------------+\n",
      "|registration_dttm  |id |first_name|last_name|email                   |gender|ip_address     |cc                 |country               |birthdate |salary   |title                       |comments                    |\n",
      "+-------------------+---+----------+---------+------------------------+------+---------------+-------------------+----------------------+----------+---------+----------------------------+----------------------------+\n",
      "|2016-02-03 07:55:29|1  |Amanda    |Jordan   |ajordan0@com.com        |Female|1.197.201.2    |6759521864920116   |Indonesia             |3/8/1971  |49756.53 |Internal Auditor            |1E+02                       |\n",
      "|2016-02-03 17:04:03|2  |Albert    |Freeman  |afreeman1@is.gd         |Male  |218.111.175.34 |                   |Canada                |1/16/1968 |150280.17|Accountant IV               |                            |\n",
      "|2016-02-03 01:09:31|3  |Evelyn    |Morgan   |emorgan2@altervista.org |Female|7.161.136.94   |6767119071901597   |Russia                |2/1/1960  |144972.51|Structural Engineer         |                            |\n",
      "|2016-02-03 00:36:21|4  |Denise    |Riley    |driley3@gmpg.org        |Female|140.35.109.83  |3576031598965625   |China                 |4/8/1997  |90263.05 |Senior Cost Accountant      |                            |\n",
      "|2016-02-03 05:05:31|5  |Carlos    |Burns    |cburns4@miitbeian.gov.cn|      |169.113.235.40 |5602256255204850   |South Africa          |          |null     |                            |                            |\n",
      "|2016-02-03 07:22:34|6  |Kathryn   |White    |kwhite5@google.com      |Female|195.131.81.179 |3583136326049310   |Indonesia             |2/25/1983 |69227.11 |Account Executive           |                            |\n",
      "|2016-02-03 08:33:08|7  |Samuel    |Holmes   |sholmes6@foxnews.com    |Male  |232.234.81.197 |3582641366974690   |Portugal              |12/18/1987|14247.62 |Senior Financial Analyst    |                            |\n",
      "|2016-02-03 06:47:06|8  |Harry     |Howell   |hhowell7@eepurl.com     |Male  |91.235.51.73   |                   |Bosnia and Herzegovina|3/1/1962  |186469.43|Web Developer IV            |                            |\n",
      "|2016-02-03 03:52:53|9  |Jose      |Foster   |jfoster8@yelp.com       |Male  |132.31.53.61   |                   |South Korea           |3/27/1992 |231067.84|Software Test Engineer I    |1E+02                       |\n",
      "|2016-02-03 18:29:47|10 |Emily     |Stewart  |estewart9@opensource.org|Female|143.28.251.245 |3574254110301671   |Nigeria               |1/28/1997 |27234.28 |Health Coach IV             |                            |\n",
      "|2016-02-03 00:10:42|11 |Susan     |Perkins  |sperkinsa@patch.com     |Female|180.85.0.62    |3573823609854134   |Russia                |          |210001.95|                            |                            |\n",
      "|2016-02-03 18:04:34|12 |Alice     |Berry    |aberryb@wikipedia.org   |Female|246.225.12.189 |4917830851454417   |China                 |8/12/1968 |22944.53 |Quality Engineer            |                            |\n",
      "|2016-02-03 18:48:17|13 |Justin    |Berry    |jberryc@usatoday.com    |Male  |157.7.146.43   |6331109912871813274|Zambia                |8/15/1975 |44165.46 |Structural Analysis Engineer|                            |\n",
      "|2016-02-03 21:46:52|14 |Kathy     |Reynolds |kreynoldsd@redcross.org |Female|81.254.172.13  |5537178462965976   |Bosnia and Herzegovina|6/27/1970 |286592.99|Librarian                   |                            |\n",
      "|2016-02-03 08:53:23|15 |Dorothy   |Hudson   |dhudsone@blogger.com    |Female|8.59.7.0       |3542586858224170   |Japan                 |12/20/1989|157099.71|Nurse Practicioner          |<script>alert('hi')</script>|\n",
      "|2016-02-03 00:44:01|16 |Bruce     |Willis   |bwillisf@bluehost.com   |Male  |239.182.219.189|3573030625927601   |Brazil                |          |239100.65|                            |                            |\n",
      "|2016-02-03 00:57:45|17 |Emily     |Andrews  |eandrewsg@cornell.edu   |Female|29.231.180.172 |30271790537626     |Russia                |4/13/1990 |116800.65|Food Chemist                |                            |\n",
      "|2016-02-03 16:44:24|18 |Stephen   |Wallace  |swallaceh@netvibes.com  |Male  |152.49.213.62  |5433943468526428   |Ukraine               |1/15/1978 |248877.99|Account Representative I    |                            |\n",
      "|2016-02-03 11:45:54|19 |Clarence  |Lawson   |clawsoni@vkontakte.ru   |Male  |107.175.15.152 |3544052814080964   |Russia                |          |177122.99|                            |                            |\n",
      "|2016-02-03 10:30:36|20 |Rebecca   |Bell     |rbellj@bandcamp.com     |Female|172.215.104.127|                   |China                 |          |137251.19|                            |                            |\n",
      "+-------------------+---+----------+---------+------------------------+------+---------------+-------------------+----------------------+----------+---------+----------------------------+----------------------------+\n",
      "only showing top 20 rows\n",
      "\n"
     ]
    }
   ],
   "source": [
    "df.show(false)"
   ]
  },
  {
   "cell_type": "code",
   "execution_count": null,
   "id": "ad6765de",
   "metadata": {},
   "outputs": [],
   "source": []
  }
 ],
 "metadata": {
  "kernelspec": {
   "display_name": "spylon-kernel",
   "language": "scala",
   "name": "spylon-kernel"
  },
  "language_info": {
   "codemirror_mode": "text/x-scala",
   "file_extension": ".scala",
   "help_links": [
    {
     "text": "MetaKernel Magics",
     "url": "https://metakernel.readthedocs.io/en/latest/source/README.html"
    }
   ],
   "mimetype": "text/x-scala",
   "name": "scala",
   "pygments_lexer": "scala",
   "version": "0.4.1"
  }
 },
 "nbformat": 4,
 "nbformat_minor": 5
}
